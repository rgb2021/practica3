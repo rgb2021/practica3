{
  "cells": [
    {
      "cell_type": "markdown",
      "source": [
        "# PREGUNTAS"
      ],
      "metadata": {}
    },
    {
      "cell_type": "markdown",
      "source": [
        "Pregunta: ¿qué es el Hub de Docker? ¿cuál es la diferencia entre una imagen y un contenedor? Un poco de ayuda."
      ],
      "metadata": {}
    },
    {
      "cell_type": "markdown",
      "source": [
        "Respuesta:\n",
        "El Hub docker es una colección de imágenes online. \n",
        "Una imagen es el sistema de archivos y configuración de nuestra aplicación que se usa para crear contenedores.\n",
        "Un contenedor es una ejecución de una instancia de una imagen, los contenedores ejecutan las aplicaciones reales e incluyen la aplicación y todas sus dependencias\n"
      ],
      "metadata": {}
    },
    {
      "cell_type": "markdown",
      "source": [
        "```echo ip$(ifconfig eth1 | grep \"inet \" | awk -F'[: ]+' '{ print $4 }' | sed 's/\\./-/g')-$SESSION_ID```\n",
        "\n",
        "Pregunta: ¿qué hace el comando anterior? ¿De qué subcomandos se compone y qué papel juegan (ifconfig, grep, awk y sed)?"
      ],
      "metadata": {}
    },
    {
      "cell_type": "markdown",
      "source": [
        "*Respuesta:* el comando ifconfig devuelve la configuración de la red \n",
        ">eth1      Link encap:Ethernet  HWaddr 02:42:AC:12:00:0F\n",
        "          inet addr:172.18.0.15  Bcast:0.0.0.0  Mask:255.255.0.0\n",
        "          UP BROADCAST RUNNING MULTICAST  MTU:1500  Metric:1\n",
        "          RX packets:1353 errors:0 dropped:0 overruns:0 frame:0\n",
        "          TX packets:1261 errors:0 dropped:0 overruns:0 carrier:0\n",
        "          collisions:0 txqueuelen:0\n",
        "          RX bytes:165434 (161.5 KiB)  TX bytes:364403 (355.8 KiB)\n",
        "\n",
        "de todo el texto devuelto por el comando el comando grep filtra por las líneas que contienen la palabra \"inet\"\n",
        ">inet addr:172.18.0.15  Bcast:0.0.0.0  Mask:255.255.0.0\n",
        "\n",
        "awk se usa para procesar datos basados en texto en este caso se usa para imprimir la cuarta columna del texto filtrado por el grep.\n",
        ">172.18.0.15\n",
        "\n",
        "sed sustituye los caracteres \".\" por \"-\"\n",
        ">172-18-0-15\n",
        "\n",
        "por último se añade delante \"ip\" y detrás el ID de sesión:\n",
        ">ip172-18-0-15-c0akij434gag009jgri0\n"
      ],
      "metadata": {}
    },
    {
      "cell_type": "markdown",
      "source": [
        "Preguntas: ¿Qué es un fichero ppk? ¿Qué es una clave RSA público/privada (fichero key)?"
      ],
      "metadata": {}
    },
    {
      "cell_type": "markdown",
      "source": [
        "Respuesta: Es un fichero que se usa para para configurar conexiones seguras sin password. Se genera una clave privada que se copia en el servidor y los clientes se copia la publica que se usa para validar el usuario\n"
      ],
      "metadata": {}
    },
    {
      "cell_type": "markdown",
      "source": [
        "Pregunta: ¿cómo se llama a este tipo de haz de partículas?\n",
        "\n"
      ],
      "metadata": {}
    },
    {
      "cell_type": "markdown",
      "source": [
        "*Respuesta:*"
      ],
      "metadata": {}
    },
    {
      "cell_type": "markdown",
      "source": [
        "Pregunta: ¿Cómo es posible que veamos figuras 3D en una página web? ¿Qué estándares, alternativas, consorcios e instituciones están implicados? ¿Qué alternativa estamos usando en este ejercicio (pista) y qué gran centro de investigación en matemáticas estuvo implicado (pista)?"
      ],
      "metadata": {}
    },
    {
      "cell_type": "markdown",
      "source": [
        "Respuesta: Es posible porque existen diferentes estándars como WebGPU o WebGL que han creado apis para trabajar con 3D, En el caso del WebGPU está implicado el W3C GPU for the Web Commmunity Group con ingenieros de Apple, Mozilla, Microsoft, Google y otros. En el caso de WebGL está desarrollado por Khronos WebGL Working Group fundado por las compañías ATI Technologies, Discreet, Evans & Sutherland, Intel Corporation, NVIDIA, Silicon Graphics (SGI), y Sun Microsystems.\n",
        "\n",
        "En el caso de esta práctica estamos usando X3d que forma parte del Web3D consortium\n"
      ],
      "metadata": {}
    },
    {
      "cell_type": "markdown",
      "source": [
        "Pregunta: ¿cuánto tiempo puede estar serpenteando un fotón que nace en el centro del Sol hasta llegar a la retina de cualquiera de tus ojos?"
      ],
      "metadata": {}
    },
    {
      "cell_type": "markdown",
      "source": [
        "*Respuesta:* Se estima que un fotón tarda entre 10.000 y 170.000 años en llegar desde el centro a la superficie del sol y 8 minutos más desde la superficie del sol hasta nuestro ojo (izquierdo o derecho :wink: )"
      ],
      "metadata": {}
    },
    {
      "cell_type": "markdown",
      "source": [
        "Pregunta: ¿qué es un positrón? ¿Quién postuló su existencia teórica y cuándo y cómo se descubrió experimentalmente?\n",
        "\n"
      ],
      "metadata": {}
    },
    {
      "cell_type": "markdown",
      "source": [
        "Respuesta: es una partícula elemental , antipartícula del electrón. Forma parte de la antimateria y su carga es de 1e. Fue predicha por Paul Dirac en 1928 y descubierta por Carl David Anderson en 1932 al fotografiar las huellas de rayos cósmicos en una cámara de niebla."
      ],
      "metadata": {}
    },
    {
      "cell_type": "markdown",
      "source": [
        "Pregunta: ¿qué relación tiene la modalidad radiológica PET con la aniquilación de pares electrón-positrón? ¿Cómo se trasladan positrones hasta el interior de las células cancerígenas?"
      ],
      "metadata": {}
    },
    {
      "cell_type": "markdown",
      "source": [
        "Respuesta: Cuando los positrones se encuentran con los electrones se emiten en dirección opuesta dos fotones que son capturados y permiten localizar la zona afectada. Como se muestra en la siguiente imagen:\n",
        "\n",
        "![PET](https://upload.wikimedia.org/wikipedia/commons/c/c1/PET-schema.png)\n",
        "\n",
        "los positrones se administran en forma de un radiofármaco de vida media ultracorta administrado a través de una inyección intravenosa."
      ],
      "metadata": {}
    },
    {
      "cell_type": "markdown",
      "source": [
        "# Simulaciones"
      ],
      "metadata": {}
    },
    {
      "cell_type": "markdown",
      "source": [
        "## Instalación"
      ],
      "metadata": {}
    },
    {
      "cell_type": "markdown",
      "source": [
        "He optado por instalar Docker localmente, he descargado el instalador desde https://hub.docker.com/editions/community/docker-ce-desktop-windows/\n",
        "\n",
        "Una vez instalado desde VS Code creo un proyecto y dentro de la carpeta copio los ficheros simulation.py y wrl2html.py que descargo de https://raw.githubusercontent.com/pammacdotnet/FFRepo/master/\n",
        "\n",
        "desde el terminal PowerShell de VS Code ejecuto:\n",
        ">docker pull pammacdotnet/g4lpwd\n",
        "\n",
        "para ejecutar cada simulación ejecuto el comando:\n",
        ">docker run -v ${PWD}:/root pammacdotnet/g4lpwd\n",
        "\n",
        "esto genera un fichero llamado ```simulation.wrl``` con los resultados de la simulación que se puede transformar en un html ejecutando el comando:\n",
        ">./wrl2html.py --wrl simulation.wrl --html simulation.html\n",
        "\n",
        "Para la visualización de los ficheros wrl he optado por la instalación del programa paraview que he descargado de: https://www.paraview.org/\n"
      ],
      "metadata": {}
    },
    {
      "cell_type": "markdown",
      "source": [
        "## Efecto Fotoeléctrico"
      ],
      "metadata": {}
    },
    {
      "cell_type": "markdown",
      "source": [
        "Para simular el efecto foto eléctrico usamos una energía de 0.01 MeV ya que en esas intensidades predomina el efecto fotoeléctrico según el grafico:\n",
        "\n",
        "![Efecto Fotoeléctrico](imagenes/interacciones.png)\n",
        "\n",
        "para ellos ejecutaremos la simulación:\n",
        ">docker run -v ${PWD}:/root pammacdotnet/g4lpwd --energy=0.01 --wrl=./simulacion/fotoelectrico.wrl\n",
        "\n",
        "esto crea dentro de la carpeta simulación un fichero fotoelectrico.wrl que abro con el programa paraview\n",
        "\n",
        "![Efecto Fotoelectrico](imagenes/fotoelectrico3.png)\n",
        "\n",
        "haciendo zoom podemos observar cómo al final se produce el efecto fotoeléctrico\n",
        "\n",
        "![Efecto Fotoelectrico](imagenes/fotoelectrico2.png)\n",
        "\n",
        "\n",
        "![Efecto Fotoelectrico](imagenes/fotoelectrico.png)\n"
      ],
      "metadata": {}
    },
    {
      "cell_type": "markdown",
      "source": [
        "## Efecto Compton"
      ],
      "metadata": {}
    },
    {
      "cell_type": "markdown",
      "source": [
        "para comprobar el efecto Compton subimos la energía a 1 MeV y ejecutamos el siguiente comando:\n",
        "\n",
        ">docker run -v ${PWD}:/root pammacdotnet/g4lpwd --energy=1 --wrl=./simulacion/Compton.wrl\n",
        "\n",
        "Se puede observar el efecto Compton en las siguientes imagenes\n",
        "\n",
        "![Efecto Fotoelectrico](imagenes/compton3.png)\n",
        "\n",
        "\n",
        "![Efecto Fotoelectrico](imagenes/compton2.png)\n",
        "\n",
        "\n",
        "![Efecto Fotoelectrico](imagenes/compton1.png)\n",
        "\n",
        "\n",
        "![Efecto Fotoelectrico](imagenes/compton.png)\n"
      ],
      "metadata": {}
    },
    {
      "cell_type": "markdown",
      "source": [
        "## Producción de pares"
      ],
      "metadata": {}
    },
    {
      "cell_type": "markdown",
      "source": [
        "Para la producción de pares seguimos aumentando la energía, ejecutamos el comando:\n",
        "\n",
        ">docker run -v ${PWD}:/root pammacdotnet/g4lpwd --energy=40 --wrl=./simulacion/Pares.wrl\n",
        "\n",
        "Se puede observar en las siguientes imagenes:\n",
        "\n",
        "![Produccion pares](imagenes/pares3.png)\n",
        "\n",
        "![Produccion pares](imagenes/pares2.png)\n",
        "\n",
        "![Produccion pares](imagenes/pares.png)"
      ],
      "metadata": {}
    },
    {
      "cell_type": "markdown",
      "source": [
        "## Ionización"
      ],
      "metadata": {}
    },
    {
      "cell_type": "markdown",
      "source": [
        "En la misma simulacion que la produccion de pares se puede observar la Ionizacion:\n",
        "\n",
        "![Ionizacion](imagenes/Ionizacion3.png)\n",
        "\n",
        "![Ionizacion](imagenes/Ionizacion2.png)\n",
        "\n",
        "![Ionizacion](imagenes/Ionizacion1.png)\n",
        "\n",
        "![Ionizacion](imagenes/Ionizacion.png)"
      ],
      "metadata": {}
    },
    {
      "cell_type": "markdown",
      "source": [
        "## Bremsstrahlung"
      ],
      "metadata": {}
    },
    {
      "cell_type": "markdown",
      "source": [
        "Para la siguiente simulacion cambiamos a electrones y ejecutamos:\n",
        "\n",
        ">docker run -v ${PWD}:/root pammacdotnet/g4lpwd --energy=10 --wrl=./simulacion/Bremsstrahlung.wrl --type=e-\n",
        "\n",
        "![Bremsstrahlung](imagenes/Bremsstrahlung2.png)\n",
        "\n",
        "![Bremsstrahlung](imagenes/Bremsstrahlung1.png)\n",
        "\n",
        "![Bremsstrahlung](imagenes/Bremsstrahlung.png)"
      ],
      "metadata": {}
    },
    {
      "cell_type": "markdown",
      "source": [
        "## Aniquilación de pares\n"
      ],
      "metadata": {}
    },
    {
      "cell_type": "markdown",
      "source": [
        "Para la aniquilacion cambiamos el tipo de particulas a positrones:\n",
        "\n",
        ">docker run -v ${PWD}:/root pammacdotnet/g4lpwd --energy=0.1 --wrl=./simulacion/Aniquilacion.wrl --type=e+\n",
        "\n",
        "y podemos observar la aniquilacion de pares en las siguientes imagenes:\n",
        "\n",
        "![Aniquilación de pares](imagenes/Aniquilacion2.png)\n",
        "\n",
        "![Aniquilación de pares](imagenes/Aniquilacion1.png)\n",
        "\n",
        "![Aniquilación de pares](imagenes/Aniquilacion.png)"
      ],
      "metadata": {}
    }
  ],
  "metadata": {
    "language_info": {
      "codemirror_mode": {
        "name": "ipython",
        "version": 3
      },
      "file_extension": ".py",
      "mimetype": "text/x-python",
      "name": "python",
      "nbconvert_exporter": "python",
      "pygments_lexer": "ipython3",
      "version": 3
    },
    "orig_nbformat": 2,
    "nteract": {
      "version": "0.28.0"
    }
  },
  "nbformat": 4,
  "nbformat_minor": 2
}
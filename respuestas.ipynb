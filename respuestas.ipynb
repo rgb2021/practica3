{
  "cells": [
    {
      "source": [
        "# PREGUNTAS"
      ],
      "cell_type": "markdown",
      "metadata": {}
    },
    {
      "cell_type": "markdown",
      "source": [
        "Pregunta: ¿qué es el Hub de Docker? ¿cuál es la diferencia entre una imagen y un contenedor? Un poco de ayuda."
      ],
      "metadata": {}
    },
    {
      "cell_type": "markdown",
      "source": [
        "*Respuesta:*\n",
        "El Hub docker es una coleccion de imagenes online. \n",
        "Una imagen es el sistema de archivos y configuracion de nuestra aplicacion que se usa para crear contenedores.\n",
        "Un contenedor es una ejecucion de una instancia de una imagen, los contenedores ejecutan las aplicaciones reales e incuyen la aplicacion y todas sus dependencias"
      ],
      "metadata": {}
    },
    {
      "cell_type": "markdown",
      "source": [
        "```echo ip$(ifconfig eth1 | grep \"inet \" | awk -F'[: ]+' '{ print $4 }' | sed 's/\\./-/g')-$SESSION_ID```\n",
        "\n",
        "Pregunta: ¿qué hace el comando anterior? ¿De qué subcomandos se compone y qué papel juegan (ifconfig, grep, awk y sed)?"
      ],
      "metadata": {}
    },
    {
      "cell_type": "markdown",
      "source": [
        "*Respuesta:* el comando ifconfig devuelve la configuracion de la red \n",
        ">eth1      Link encap:Ethernet  HWaddr 02:42:AC:12:00:0F\n",
        "          inet addr:172.18.0.15  Bcast:0.0.0.0  Mask:255.255.0.0\n",
        "          UP BROADCAST RUNNING MULTICAST  MTU:1500  Metric:1\n",
        "          RX packets:1353 errors:0 dropped:0 overruns:0 frame:0\n",
        "          TX packets:1261 errors:0 dropped:0 overruns:0 carrier:0\n",
        "          collisions:0 txqueuelen:0\n",
        "          RX bytes:165434 (161.5 KiB)  TX bytes:364403 (355.8 KiB)\n",
        "\n",
        "de todo el texto devuelto por el comando el comando grep filtra por las lineas que contienen la palabra \"inet\"\n",
        ">inet addr:172.18.0.15  Bcast:0.0.0.0  Mask:255.255.0.0\n",
        "\n",
        "awk se usa para procesar datos basados en texto en este caso se usa para imprimir la cuarta columna del texto filtrado por el grep.\n",
        ">172.18.0.15\n",
        "\n",
        "sed sustituye los caracteres \".\" por \"-\"\n",
        ">172-18-0-15\n",
        "\n",
        "por ultimo se añade delante \"ip\" y detras el ID se la sesion:\n",
        ">ip172-18-0-15-c0akij434gag009jgri0\n"
      ],
      "metadata": {}
    },
    {
      "source": [
        "Preguntas: ¿Qué es un fichero ppk? ¿Qué es una clave RSA público/privada (fichero key)?"
      ],
      "cell_type": "markdown",
      "metadata": {}
    },
    {
      "source": [
        "*Respuesta:* es un fichero que se usa para para configurar conexiones seguras sin password. Se genera una clave privada que se copia en el servidor y los clientes se copia la publica que se usa para validar el usuario \n"
      ],
      "cell_type": "markdown",
      "metadata": {}
    },
    {
      "cell_type": "markdown",
      "source": [
        "Pregunta: ¿cómo se llama a este tipo de haz de partículas?\n",
        "\n"
      ],
      "metadata": {}
    },
    {
      "cell_type": "markdown",
      "source": [
        "*Respuesta:*"
      ],
      "metadata": {}
    },
    {
      "cell_type": "markdown",
      "source": [
        "Pregunta: ¿Cómo es posible que veamos figuras 3D en una página web? ¿Qué estándares, alternativas, consorcios e instituciones están implicados? ¿Qué alternativa estamos usando en este ejercicio (pista) y qué gran centro de investigación en matemáticas estuvo implicado (pista)?"
      ],
      "metadata": {}
    },
    {
      "source": [
        "*Respuesta:* Es posible porque existen diferentes estandars como WebGPU o WebGL que han creado apis para trabajar con 3D, En el caso del WebGPU esta implicado el W3C GPU for the Web Commmunity Group con ingenieros de Apple, Mozilla, Microsoft, Google y otros. En el caso de WebGL esta desarrollado por Khronos WebGL Working Group fundado por las compañias  ATI Technologies, Discreet, Evans & Sutherland, Intel Corporation, NVIDIA, Silicon Graphics (SGI), y Sun Microsystems.\n",
        "\n",
        "En el caso de esta practica estamos usando X3d que forma parte del Web3D consortium "
      ],
      "cell_type": "markdown",
      "metadata": {}
    },
    {
      "cell_type": "markdown",
      "source": [
        "Pregunta: ¿cuánto tiempo puede estar serpenteando un fotón que nace en el centro del Sol hasta llegar a la retina de cualquiera de tus ojos?"
      ],
      "metadata": {}
    },
    {
      "source": [
        "*Respuesta:* Se estima que un foton tarda entre 10.000 y 170.000 años en llegar desde el centro a la superficie del sol y 8 minutos mas desde la superficie del sol hasta nuestro ojo (izquierdo o derecho :wink: ) "
      ],
      "cell_type": "markdown",
      "metadata": {}
    },
    {
      "cell_type": "markdown",
      "source": [
        "Pregunta: ¿qué es un positrón? ¿Quién postuló su existencia teórica y cuándo y cómo se descubrió experimentalmente?\n",
        "\n"
      ],
      "metadata": {}
    },
    {
      "source": [
        "*Respuesta:* es una particula elemental , antiparticula del electrón. Forma parte de la antimateria y su carga es de 1e. Fue predicha por Paul Dirac en 1928 y descubierta por Carl David Anderson en 1932 al fotograficar las huellas de rayos cósmicos en una camara de niebla."
      ],
      "cell_type": "markdown",
      "metadata": {}
    },
    {
      "cell_type": "markdown",
      "source": [
        "Pregunta: ¿qué relación tiene la modalidad radiológica PET con la aniquilación de pares electrón-positrón? ¿Cómo se trasladan positrones hasta el interior de las células cancerígenas?"
      ],
      "metadata": {}
    },
    {
      "source": [
        "*Respuesta:* cuando los positrones se encuentran con los electrones se emiten en direccion opuesta dos fotones que son capturados y permiten localizar la zona afectada. Como se muestra en la siguiente imagen:\n",
        "\n",
        "![PET](https://upload.wikimedia.org/wikipedia/commons/c/c1/PET-schema.png)\n",
        "\n",
        "los positrones se administran en forma de un radiofármaco de vida media ultracorta administrado a través de una inyección intravenosa."
      ],
      "cell_type": "markdown",
      "metadata": {}
    },
    {
      "source": [
        "# Simulaciones"
      ],
      "cell_type": "markdown",
      "metadata": {}
    },
    {
      "source": [
        "## Instalación"
      ],
      "cell_type": "markdown",
      "metadata": {}
    },
    {
      "source": [
        "He optado por instalar Docker localmente, he descargado el instalador desde https://hub.docker.com/editions/community/docker-ce-desktop-windows/\n",
        "\n",
        "Una vez instalado desde VS Code creo un proyecto y dentro de la carpeta copio los ficheros simulation.py y wrl2html.py que descargo de https://raw.githubusercontent.com/pammacdotnet/FFRepo/master/\n",
        "\n",
        "desde el terminal PowerShell de VS Code ejecuto:\n",
        ">docker pull pammacdotnet/g4lpwd\n",
        "\n",
        "para ejecutar cada simulación ejecuto el comando:\n",
        ">docker run -v ${PWD}:/root pammacdotnet/g4lpwd\n",
        "\n",
        "esto genera un fichero llamado ```simulation.wrl``` con los resultados de la simulacion que se puede transformar en un html ejecutando el comando:\n",
        ">./wrl2html.py --wrl simulation.wrl --html simulation.html\n",
        "\n",
        "Para la visualizacion de los ficheros wrl he optado por la instalacion del programa paraview que he descargado de: https://www.paraview.org/"
      ],
      "cell_type": "markdown",
      "metadata": {}
    },
    {
      "source": [
        "## Efecto Fotoeléctrico"
      ],
      "cell_type": "markdown",
      "metadata": {}
    },
    {
      "source": [
        "Para simular el efecto foto electrico usamos una energia de 0.01 MeV ya que en esas intensidades predomina el efecto fotoelectrico segun el grafico:\n",
        "\n",
        "![Efecto Fotoelectrico](imagenes/interacciones.png)\n",
        "\n",
        "para ellos ejecutaremos la simulacion:\n",
        ">docker run -v ${PWD}:/root pammacdotnet/g4lpwd --energy=0.01 --wrl=./simulacion/fotoelectrico.wrl\n",
        "\n",
        "esto crea dentro de la carpeta simulacion un fichero fotoelectrico.wrl que abro con el programa paraview\n",
        "\n",
        "![Efecto Fotoelectrico](imagenes/fotoelectrico3.png)\n",
        "\n",
        "haciendo zoom podemos observar como al final se produce el efecto fotoelectrico\n",
        "\n",
        "![Efecto Fotoelectrico](imagenes/fotoelectrico2.png)\n",
        "\n",
        "![Efecto Fotoelectrico](imagenes/fotoelectrico.png)\n"
      ],
      "cell_type": "markdown",
      "metadata": {}
    },
    {
      "source": [
        "## Efecto Compton"
      ],
      "cell_type": "markdown",
      "metadata": {}
    },
    {
      "source": [
        "para comprobar el efecto Compton subimos la energia a 1 MeV \n",
        ">docker run -v ${PWD}:/root pammacdotnet/g4lpwd --energy=1 --wrl=./simulacion/Compton.wrl\n",
        "\n",
        "![Efecto Fotoelectrico](imagenes/compton3.png)\n",
        "![Efecto Fotoelectrico](imagenes/compton2.png)\n",
        "![Efecto Fotoelectrico](imagenes/compton1.png)\n",
        "![Efecto Fotoelectrico](imagenes/compton.png)\n"
      ],
      "cell_type": "markdown",
      "metadata": {}
    },
    {
      "source": [
        "## Producción de pares"
      ],
      "cell_type": "markdown",
      "metadata": {}
    },
    {
      "source": [
        ">docker run -v ${PWD}:/root pammacdotnet/g4lpwd --energy=40 --wrl=./simulacion/Pares.wrl\n",
        "\n",
        "![Produccion pares](imagenes/pares3.png)\n",
        "![Produccion pares](imagenes/pares2.png)\n",
        "![Produccion pares](imagenes/pares.png)"
      ],
      "cell_type": "markdown",
      "metadata": {}
    },
    {
      "source": [
        "## Ionización"
      ],
      "cell_type": "markdown",
      "metadata": {}
    },
    {
      "source": [
        "En la misma simulacion que la produccion de pares se puede observar la Ionizacion.\n",
        "\n",
        "![Ionizacion](imagenes/Ionizacion3.png)\n",
        "![Ionizacion](imagenes/Ionizacion2.png)\n",
        "![Ionizacion](imagenes/Ionizacion1.png)\n",
        "![Ionizacion](imagenes/Ionizacion.png)\n",
        "\n"
      ],
      "cell_type": "markdown",
      "metadata": {}
    },
    {
      "source": [
        "## Bremsstrahlung"
      ],
      "cell_type": "markdown",
      "metadata": {}
    },
    {
      "source": [
        ">docker run -v ${PWD}:/root pammacdotnet/g4lpwd --energy=10 --wrl=./simulacion/Bremsstrahlung.wrl --type=e-\n",
        "\n",
        "\n",
        "![Bremsstrahlung](imagenes/Bremsstrahlung2.png)\n",
        "![Bremsstrahlung](imagenes/Bremsstrahlung1.png)\n",
        "![Bremsstrahlung](imagenes/Bremsstrahlung.png)"
      ],
      "cell_type": "markdown",
      "metadata": {}
    },
    {
      "source": [
        "## Aniquilación de pares\n"
      ],
      "cell_type": "markdown",
      "metadata": {}
    },
    {
      "source": [
        ">docker run -v ${PWD}:/root pammacdotnet/g4lpwd --energy=0.1 --wrl=./simulacion/Aniquilacion.wrl --type=e+\n",
        "\n",
        "![Aniquilación de pares](imagenes/Aniquilacion2.png)\n",
        "![Aniquilación de pares](imagenes/Aniquilacion1.png)\n",
        "![Aniquilación de pares](imagenes/Aniquilacion.png)"
      ],
      "cell_type": "markdown",
      "metadata": {}
    }
  ],
  "metadata": {
    "language_info": {
      "codemirror_mode": {
        "name": "ipython",
        "version": 3
      },
      "file_extension": ".py",
      "mimetype": "text/x-python",
      "name": "python",
      "nbconvert_exporter": "python",
      "pygments_lexer": "ipython3",
      "version": 3
    },
    "orig_nbformat": 2,
    "nteract": {
      "version": "0.27.0"
    }
  },
  "nbformat": 4,
  "nbformat_minor": 2
}